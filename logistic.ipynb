{
 "cells": [
  {
   "cell_type": "markdown",
   "id": "b95f102d-e57f-41a3-91eb-e441b2c3e175",
   "metadata": {},
   "source": [
    "Matlab\n",
    "* [Docs](https://www.mathworks.com/help/matlab/)\n",
    "  * Matlab & Python\n",
    "    * [Install MATLAB Engine API for Python](https://www.mathworks.com/help/matlab/matlab_external/install-the-matlab-engine-for-python.html)\n",
    "      * `echo \"PATH=$PATH:/Applications/MATLAB_R2021b.app/bin\" >> ~/.zshrc`\n",
    "      * `cd /Applications/MATLAB_R2021b.app/extern/engines/python`\n",
    "      * `python setup.py install`\n",
    "    * [Versions of Python Compatible with MATLAB Products by Release](https://www.mathworks.com/content/dam/mathworks/mathworks-dot-com/support/sysreq/files/python-compatibility.pdf)\n",
    "\n",
    "Matlab kernel for Jupyter\n",
    "* [GitHub](https://github.com/calysto/matlab_kernel)\n",
    "* Install\n",
    "  * `pip install matlab_kernel`\n",
    "  * `python -m matlab_kernel.check`\n",
    "  \n",
    "Jupyter Matlab Proxy\n",
    "* [GitHub](https://github.com/mathworks/jupyter-matlab-proxy)\n",
    "* Install\n",
    "  * `pip install jupyter-matlab-proxy`\n",
    "  * `jupyter labextension install @jupyterlab/server-proxy`"
   ]
  }
 ],
 "metadata": {
  "kernelspec": {
   "display_name": "Python 3 (ipykernel)",
   "language": "python",
   "name": "python3"
  },
  "language_info": {
   "codemirror_mode": {
    "name": "ipython",
    "version": 3
   },
   "file_extension": ".py",
   "mimetype": "text/x-python",
   "name": "python",
   "nbconvert_exporter": "python",
   "pygments_lexer": "ipython3",
   "version": "3.9.7"
  }
 },
 "nbformat": 4,
 "nbformat_minor": 5
}

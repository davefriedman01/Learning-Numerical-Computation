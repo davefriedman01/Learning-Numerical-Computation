{
 "cells": [
  {
   "cell_type": "markdown",
   "id": "9b3ef8ae-54da-4116-9ba8-8de153b19ecb",
   "metadata": {},
   "source": [
    "* cos\n",
    "* exp\n",
    "* log\n",
    "* sin\n",
    "* sqrt\n",
    "\n",
    "* pi\n",
    "\n",
    "* doc\n",
    "* doc pi\n",
    "\n",
    "* help\n",
    "* help help\n",
    "* help ans\n",
    "* help elfun\n",
    "\n",
    "* more\n",
    "* more on\n",
    "* more off\n",
    "\n",
    "* Scalar Arithmetic\n",
    "* Vector Arithmetic\n",
    "* Matrix Arithmetic\n",
    "  * Vectorized Operations may be applied to ND arrays for any value of n\n",
    "    * Addition\n",
    "    * Subtraction\n",
    "    * Scalar Multiplication\n",
    "  * Matrix Multiplication (restricted to matrices and vectors n ≤ 2)\n",
    "  * Matrix Division (restricted to matrices and vectors n ≤ 2)"
   ]
  },
  {
   "cell_type": "code",
   "execution_count": 34,
   "id": "79abbc0b-4a99-451c-ac38-b58984f51325",
   "metadata": {},
   "outputs": [
    {
     "name": "stdout",
     "output_type": "stream",
     "text": [
      "Use the Help browser search field to search the documentation, or\n",
      "type \"help help\" for help command options, such as help for methods.\n",
      "\n"
     ]
    }
   ],
   "source": [
    "help"
   ]
  },
  {
   "cell_type": "code",
   "execution_count": 28,
   "id": "a3843921-2e52-4582-8fa5-94ffb61759b6",
   "metadata": {
    "collapsed": true,
    "jupyter": {
     "outputs_hidden": true
    },
    "tags": []
   },
   "outputs": [
    {
     "name": "stdout",
     "output_type": "stream",
     "text": [
      "   HELP Display help text in Command Window.\n",
      "      HELP NAME displays the help for the functionality specified by NAME,\n",
      "      such as a function, operator symbol, method, class, or toolbox.\n",
      "      NAME can include a partial path.\n",
      " \n",
      "      If NAME is not specified, help displays content relevant to your \n",
      "      previous actions.\n",
      " \n",
      "      Some classes require that you specify the package name. Events,\n",
      "      properties, and some methods require that you specify the class\n",
      "      name. Separate the components of the name with periods, using one\n",
      "      of the following forms:\n",
      " \n",
      "          HELP CLASSNAME.NAME\n",
      "          HELP PACKAGENAME.CLASSNAME\n",
      "          HELP PACKAGENAME.CLASSNAME.NAME\n",
      " \n",
      "      If NAME is the name of both a folder and a function, HELP displays\n",
      "      help for both the folder and the function. The help for a folder\n",
      "      is usually a list of the program files in that folder.\n",
      " \n",
      "      If NAME appears in multiple folders on the MATLAB path, HELP displays\n",
      "      information about the first instance of NAME found on the path.\n",
      " \n",
      "      NOTE:\n",
      " \n",
      "      In the help, some function names are capitalized to make them \n",
      "      stand out. In practice, type function names in lowercase. For\n",
      "      functions that are shown with mixed case (such as javaObject),\n",
      "      type the mixed case as shown.\n",
      " \n",
      "      EXAMPLES:\n",
      " \n",
      "      help join           % help for the JOIN function\n",
      "      help table/join     % help for the JOIN function for table inputs\n",
      "      help images         % list of Image Processing Toolbox functions\n",
      " \n",
      "      See also DOC, DOCSEARCH, MATLABPATH, WHICH\n",
      "\n",
      "    Documentation for help\n",
      "       doc help\n",
      "\n",
      "    Folders named help\n",
      "\n",
      "       toolstrip/help    ppt/help    xml_transform/help    xml_xpath/help\n",
      "       dom/help          xml/help\n",
      "\n"
     ]
    }
   ],
   "source": [
    "help help"
   ]
  },
  {
   "cell_type": "code",
   "execution_count": 30,
   "id": "f9ac35cd-8f6e-415b-abf8-ef614cb3d86b",
   "metadata": {
    "collapsed": true,
    "jupyter": {
     "outputs_hidden": true
    },
    "tags": []
   },
   "outputs": [
    {
     "name": "stdout",
     "output_type": "stream",
     "text": [
      "  Elementary math functions.\n",
      " \n",
      "  Trigonometric.\n",
      "    sin         - Sine.\n",
      "    sind        - Sine of argument in degrees.\n",
      "    sinh        - Hyperbolic sine.\n",
      "    asin        - Inverse sine.\n",
      "    asind       - Inverse sine, result in degrees.\n",
      "    asinh       - Inverse hyperbolic sine.\n",
      "    cos         - Cosine.\n",
      "    cosd        - Cosine of argument in degrees.\n",
      "    cosh        - Hyperbolic cosine.\n",
      "    acos        - Inverse cosine.\n",
      "    acosd       - Inverse cosine, result in degrees.\n",
      "    acosh       - Inverse hyperbolic cosine.\n",
      "    tan         - Tangent.\n",
      "    tand        - Tangent of argument in degrees.\n",
      "    tanh        - Hyperbolic tangent.\n",
      "    atan        - Inverse tangent.\n",
      "    atand       - Inverse tangent, result in degrees.\n",
      "    atan2       - Four quadrant inverse tangent.\n",
      "    atan2d      - Four quadrant inverse tangent, result in degrees.\n",
      "    atanh       - Inverse hyperbolic tangent.\n",
      "    sec         - Secant.\n",
      "    secd        - Secant of argument in degrees.\n",
      "    sech        - Hyperbolic secant.\n",
      "    asec        - Inverse secant.\n",
      "    asecd       - Inverse secant, result in degrees.\n",
      "    asech       - Inverse hyperbolic secant.\n",
      "    csc         - Cosecant.\n",
      "    cscd        - Cosecant of argument in degrees.\n",
      "    csch        - Hyperbolic cosecant.\n",
      "    acsc        - Inverse cosecant.\n",
      "    acscd       - Inverse cosecant, result in degrees.\n",
      "    acsch       - Inverse hyperbolic cosecant.\n",
      "    cot         - Cotangent.\n",
      "    cotd        - Cotangent of argument in degrees.\n",
      "    coth        - Hyperbolic cotangent.\n",
      "    acot        - Inverse cotangent.\n",
      "    acotd       - Inverse cotangent, result in degrees.\n",
      "    acoth       - Inverse hyperbolic cotangent.\n",
      "    hypot       - Square root of sum of squares.\n",
      "    deg2rad     - Convert angles from degrees to radians.\n",
      "    rad2deg     - Convert angles from radians to degrees.\n",
      " \n",
      "  Exponential.\n",
      "    exp         - Exponential.\n",
      "    expm1       - Compute exp(x)-1 accurately.\n",
      "    log         - Natural logarithm.\n",
      "    log1p       - Compute log(1+x) accurately.\n",
      "    log10       - Common (base 10) logarithm.\n",
      "    log2        - Base 2 logarithm and dissect floating point number.\n",
      "    pow2        - Base 2 power and scale floating point number.\n",
      "    realpow     - Power that will error out on complex result.\n",
      "    reallog     - Natural logarithm of real number.\n",
      "    realsqrt    - Square root of number greater than or equal to zero.\n",
      "    sqrt        - Square root.\n",
      "    nthroot     - Real n-th root of real numbers.\n",
      "    nextpow2    - Next higher power of 2.\n",
      " \n",
      "  Complex.\n",
      "    abs         - Absolute value.\n",
      "    angle       - Phase angle.\n",
      "    complex     - Construct complex data from real and imaginary parts.\n",
      "    conj        - Complex conjugate.\n",
      "    imag        - Complex imaginary part.\n",
      "    real        - Complex real part.\n",
      "    unwrap      - Unwrap phase angle.\n",
      "    isreal      - True for real array.\n",
      "    cplxpair    - Sort numbers into complex conjugate pairs.\n",
      " \n",
      "  Rounding and remainder.\n",
      "    fix         - Round towards zero.\n",
      "    floor       - Round towards minus infinity.\n",
      "    ceil        - Round towards plus infinity.\n",
      "    round       - Round towards nearest integer.\n",
      "    mod         - Modulus (signed remainder after division).\n",
      "    rem         - Remainder after division.\n",
      "    sign        - Signum.\n",
      "\n"
     ]
    }
   ],
   "source": [
    "help elfun"
   ]
  },
  {
   "cell_type": "code",
   "execution_count": 31,
   "id": "7c1bc5e8-98dd-4a53-9f38-00044c625881",
   "metadata": {},
   "outputs": [
    {
     "name": "stdout",
     "output_type": "stream",
     "text": [
      "\n",
      "ans =\n",
      "\n",
      "     0\n",
      "\n"
     ]
    }
   ],
   "source": [
    "pi - 4 * atan(1)"
   ]
  },
  {
   "cell_type": "code",
   "execution_count": 38,
   "id": "6e600910-673f-44f5-908c-a51c5a396d81",
   "metadata": {},
   "outputs": [
    {
     "data": {
      "image/png": "[encoded data removed]",
      "text/plain": [
       "<IPython.core.display.Image object>"
      ]
     },
     "metadata": {},
     "output_type": "display_data"
    }
   ],
   "source": [
    "x = [1;2;3;4;5];\n",
    "y = [0;.25;3;;1.5;2];\n",
    "plot(x,y)"
   ]
  },
  {
   "cell_type": "code",
   "execution_count": 39,
   "id": "276412d4-85ab-46ca-9562-19f19a772394",
   "metadata": {},
   "outputs": [
    {
     "data": {
      "image/png": "[encoded data removed]",
      "text/plain": [
       "<IPython.core.display.Image object>"
      ]
     },
     "metadata": {},
     "output_type": "display_data"
    }
   ],
   "source": [
    "plot(x,y,'o')"
   ]
  },
  {
   "cell_type": "code",
   "execution_count": 1,
   "id": "b07873a1-3560-4e91-aa63-b541751f1b3a",
   "metadata": {},
   "outputs": [
    {
     "name": "stdout",
     "output_type": "stream",
     "text": [
      "  Name      Size            Bytes  Class     Attributes\n",
      "\n",
      "  A         3x3                72  double              \n",
      "  B         3x3                72  double              \n",
      "  C         3x2                48  double              \n",
      "\n"
     ]
    }
   ],
   "source": [
    "A = [1 2 3;4 5 6;7 8 9];\n",
    "B = [1 1 1;2 2 2;3 3 3];\n",
    "C = [1 2;3 4;5 6];\n",
    "whos"
   ]
  },
  {
   "cell_type": "code",
   "execution_count": 2,
   "id": "bc06c421-363b-4f2b-b114-0f09be442c8a",
   "metadata": {},
   "outputs": [
    {
     "name": "stdout",
     "output_type": "stream",
     "text": [
      "\n",
      "ans =\n",
      "\n",
      "     2     3     4\n",
      "     6     7     8\n",
      "    10    11    12\n",
      "\n"
     ]
    }
   ],
   "source": [
    "A+B"
   ]
  },
  {
   "cell_type": "code",
   "execution_count": 3,
   "id": "aade5aae-5edf-4e33-ada2-c3a7f9d1f361",
   "metadata": {},
   "outputs": [
    {
     "name": "stderr",
     "output_type": "stream",
     "text": [
      "\u001b[0;31mArrays have incompatible sizes for this operation.\n",
      "\n",
      "\u001b[0m"
     ]
    }
   ],
   "source": [
    "A+C"
   ]
  },
  {
   "cell_type": "code",
   "execution_count": null,
   "id": "a6d90c56-01e5-41a6-9d43-a4d7c29d1a4f",
   "metadata": {},
   "outputs": [],
   "source": []
  }
 ],
 "metadata": {
  "kernelspec": {
   "display_name": "Matlab",
   "language": "matlab",
   "name": "matlab"
  },
  "language_info": {
   "codemirror_mode": "octave",
   "file_extension": ".m",
   "help_links": [
    {
     "text": "MetaKernel Magics",
     "url": "https://metakernel.readthedocs.io/en/latest/source/README.html"
    }
   ],
   "mimetype": "text/x-octave",
   "name": "matlab",
   "version": "0.17.1"
  }
 },
 "nbformat": 4,
 "nbformat_minor": 5
}

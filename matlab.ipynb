{
 "cells": [
  {
   "cell_type": "code",
   "execution_count": null,
   "id": "d2516efa-8595-436b-b0fc-359e31761af3",
   "metadata": {},
   "outputs": [],
   "source": [
    "a = 2"
   ]
  },
  {
   "cell_type": "code",
   "execution_count": null,
   "id": "6e69f279-ccd0-4ef5-abff-b0f4dd0a0c32",
   "metadata": {},
   "outputs": [],
   "source": [
    "x = [1;2;3]"
   ]
  },
  {
   "cell_type": "code",
   "execution_count": null,
   "id": "aae2ccd2-548d-48a6-a045-1bb135b2a036",
   "metadata": {},
   "outputs": [],
   "source": [
    "A = [1 2 3;4 5 6;7 8 0]"
   ]
  },
  {
   "cell_type": "code",
   "execution_count": null,
   "id": "6bbb374a-1011-47fd-b3ed-ed7c87cf45ae",
   "metadata": {},
   "outputs": [],
   "source": [
    "whos"
   ]
  },
  {
   "cell_type": "code",
   "execution_count": null,
   "id": "288a994d-d90b-411c-b14e-550d7d1e25f9",
   "metadata": {},
   "outputs": [],
   "source": [
    "%lsmagic"
   ]
  },
  {
   "cell_type": "markdown",
   "id": "904c8c3c-942e-4d73-b812-a0851ffd333d",
   "metadata": {},
   "source": [
    "---"
   ]
  }
 ],
 "metadata": {
  "kernelspec": {
   "display_name": "Matlab",
   "language": "matlab",
   "name": "matlab"
  },
  "language_info": {
   "codemirror_mode": "octave",
   "file_extension": ".m",
   "help_links": [
    {
     "text": "MetaKernel Magics",
     "url": "https://metakernel.readthedocs.io/en/latest/source/README.html"
    }
   ],
   "mimetype": "text/x-octave",
   "name": "matlab",
   "version": "0.17.1"
  }
 },
 "nbformat": 4,
 "nbformat_minor": 5
}

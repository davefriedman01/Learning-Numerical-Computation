{
 "cells": [
  {
   "cell_type": "markdown",
   "id": "9b3ef8ae-54da-4116-9ba8-8de153b19ecb",
   "metadata": {},
   "source": [
    "* cat\n",
    "* cos\n",
    "* exp\n",
    "* linspace(a, b, n)\n",
    "* log\n",
    "* logspace(a, b, n)\n",
    "* rand\n",
    "* sin\n",
    "* sqrt\n",
    "\n",
    "* pi\n",
    "\n",
    "* doc\n",
    "* doc pi\n",
    "\n",
    "* help\n",
    "* help cell\n",
    "* help class\n",
    "* help help\n",
    "* help ans\n",
    "* help elfun\n",
    "* help strings\n",
    "* help struct\n",
    "\n",
    "* more\n",
    "* more on\n",
    "* more off\n",
    "\n",
    "* Scalar Arithmetic\n",
    "* Vector Arithmetic\n",
    "* Matrix Arithmetic\n",
    "  * Vectorized Operations may be applied to ND arrays for any value of n\n",
    "    * Addition\n",
    "    * Subtraction\n",
    "    * Scalar Multiplication\n",
    "  * Matrix Multiplication (restricted to matrices and vectors n ≤ 2)\n",
    "  * Matrix Division (restricted to matrices and vectors n ≤ 2)\n",
    "  \n",
    "Operators\n",
    "* `'` conjugate transpose\n",
    "* `.'` transpose\n",
    "\n",
    "Matrices\n",
    "* `zeros(m, n)` m x n matrix of zeros\n",
    "* `ones(m, n)` m x n matrix of ones\n",
    "* `eye(n)` n x n identity matrix\n",
    "* `diag(v)` n x n diagonal matrix with v on the diagonal assuming v is an n-vector"
   ]
  },
  {
   "cell_type": "code",
   "execution_count": 34,
   "id": "79abbc0b-4a99-451c-ac38-b58984f51325",
   "metadata": {},
   "outputs": [
    {
     "name": "stdout",
     "output_type": "stream",
     "text": [
      "Use the Help browser search field to search the documentation, or\n",
      "type \"help help\" for help command options, such as help for methods.\n",
      "\n"
     ]
    }
   ],
   "source": [
    "help"
   ]
  },
  {
   "cell_type": "code",
   "execution_count": 28,
   "id": "a3843921-2e52-4582-8fa5-94ffb61759b6",
   "metadata": {
    "collapsed": true,
    "jupyter": {
     "outputs_hidden": true
    },
    "tags": []
   },
   "outputs": [
    {
     "name": "stdout",
     "output_type": "stream",
     "text": [
      "   HELP Display help text in Command Window.\n",
      "      HELP NAME displays the help for the functionality specified by NAME,\n",
      "      such as a function, operator symbol, method, class, or toolbox.\n",
      "      NAME can include a partial path.\n",
      " \n",
      "      If NAME is not specified, help displays content relevant to your \n",
      "      previous actions.\n",
      " \n",
      "      Some classes require that you specify the package name. Events,\n",
      "      properties, and some methods require that you specify the class\n",
      "      name. Separate the components of the name with periods, using one\n",
      "      of the following forms:\n",
      " \n",
      "          HELP CLASSNAME.NAME\n",
      "          HELP PACKAGENAME.CLASSNAME\n",
      "          HELP PACKAGENAME.CLASSNAME.NAME\n",
      " \n",
      "      If NAME is the name of both a folder and a function, HELP displays\n",
      "      help for both the folder and the function. The help for a folder\n",
      "      is usually a list of the program files in that folder.\n",
      " \n",
      "      If NAME appears in multiple folders on the MATLAB path, HELP displays\n",
      "      information about the first instance of NAME found on the path.\n",
      " \n",
      "      NOTE:\n",
      " \n",
      "      In the help, some function names are capitalized to make them \n",
      "      stand out. In practice, type function names in lowercase. For\n",
      "      functions that are shown with mixed case (such as javaObject),\n",
      "      type the mixed case as shown.\n",
      " \n",
      "      EXAMPLES:\n",
      " \n",
      "      help join           % help for the JOIN function\n",
      "      help table/join     % help for the JOIN function for table inputs\n",
      "      help images         % list of Image Processing Toolbox functions\n",
      " \n",
      "      See also DOC, DOCSEARCH, MATLABPATH, WHICH\n",
      "\n",
      "    Documentation for help\n",
      "       doc help\n",
      "\n",
      "    Folders named help\n",
      "\n",
      "       toolstrip/help    ppt/help    xml_transform/help    xml_xpath/help\n",
      "       dom/help          xml/help\n",
      "\n"
     ]
    }
   ],
   "source": [
    "help help"
   ]
  },
  {
   "cell_type": "code",
   "execution_count": 30,
   "id": "f9ac35cd-8f6e-415b-abf8-ef614cb3d86b",
   "metadata": {
    "collapsed": true,
    "jupyter": {
     "outputs_hidden": true
    },
    "tags": []
   },
   "outputs": [
    {
     "name": "stdout",
     "output_type": "stream",
     "text": [
      "  Elementary math functions.\n",
      " \n",
      "  Trigonometric.\n",
      "    sin         - Sine.\n",
      "    sind        - Sine of argument in degrees.\n",
      "    sinh        - Hyperbolic sine.\n",
      "    asin        - Inverse sine.\n",
      "    asind       - Inverse sine, result in degrees.\n",
      "    asinh       - Inverse hyperbolic sine.\n",
      "    cos         - Cosine.\n",
      "    cosd        - Cosine of argument in degrees.\n",
      "    cosh        - Hyperbolic cosine.\n",
      "    acos        - Inverse cosine.\n",
      "    acosd       - Inverse cosine, result in degrees.\n",
      "    acosh       - Inverse hyperbolic cosine.\n",
      "    tan         - Tangent.\n",
      "    tand        - Tangent of argument in degrees.\n",
      "    tanh        - Hyperbolic tangent.\n",
      "    atan        - Inverse tangent.\n",
      "    atand       - Inverse tangent, result in degrees.\n",
      "    atan2       - Four quadrant inverse tangent.\n",
      "    atan2d      - Four quadrant inverse tangent, result in degrees.\n",
      "    atanh       - Inverse hyperbolic tangent.\n",
      "    sec         - Secant.\n",
      "    secd        - Secant of argument in degrees.\n",
      "    sech        - Hyperbolic secant.\n",
      "    asec        - Inverse secant.\n",
      "    asecd       - Inverse secant, result in degrees.\n",
      "    asech       - Inverse hyperbolic secant.\n",
      "    csc         - Cosecant.\n",
      "    cscd        - Cosecant of argument in degrees.\n",
      "    csch        - Hyperbolic cosecant.\n",
      "    acsc        - Inverse cosecant.\n",
      "    acscd       - Inverse cosecant, result in degrees.\n",
      "    acsch       - Inverse hyperbolic cosecant.\n",
      "    cot         - Cotangent.\n",
      "    cotd        - Cotangent of argument in degrees.\n",
      "    coth        - Hyperbolic cotangent.\n",
      "    acot        - Inverse cotangent.\n",
      "    acotd       - Inverse cotangent, result in degrees.\n",
      "    acoth       - Inverse hyperbolic cotangent.\n",
      "    hypot       - Square root of sum of squares.\n",
      "    deg2rad     - Convert angles from degrees to radians.\n",
      "    rad2deg     - Convert angles from radians to degrees.\n",
      " \n",
      "  Exponential.\n",
      "    exp         - Exponential.\n",
      "    expm1       - Compute exp(x)-1 accurately.\n",
      "    log         - Natural logarithm.\n",
      "    log1p       - Compute log(1+x) accurately.\n",
      "    log10       - Common (base 10) logarithm.\n",
      "    log2        - Base 2 logarithm and dissect floating point number.\n",
      "    pow2        - Base 2 power and scale floating point number.\n",
      "    realpow     - Power that will error out on complex result.\n",
      "    reallog     - Natural logarithm of real number.\n",
      "    realsqrt    - Square root of number greater than or equal to zero.\n",
      "    sqrt        - Square root.\n",
      "    nthroot     - Real n-th root of real numbers.\n",
      "    nextpow2    - Next higher power of 2.\n",
      " \n",
      "  Complex.\n",
      "    abs         - Absolute value.\n",
      "    angle       - Phase angle.\n",
      "    complex     - Construct complex data from real and imaginary parts.\n",
      "    conj        - Complex conjugate.\n",
      "    imag        - Complex imaginary part.\n",
      "    real        - Complex real part.\n",
      "    unwrap      - Unwrap phase angle.\n",
      "    isreal      - True for real array.\n",
      "    cplxpair    - Sort numbers into complex conjugate pairs.\n",
      " \n",
      "  Rounding and remainder.\n",
      "    fix         - Round towards zero.\n",
      "    floor       - Round towards minus infinity.\n",
      "    ceil        - Round towards plus infinity.\n",
      "    round       - Round towards nearest integer.\n",
      "    mod         - Modulus (signed remainder after division).\n",
      "    rem         - Remainder after division.\n",
      "    sign        - Signum.\n",
      "\n"
     ]
    }
   ],
   "source": [
    "help elfun"
   ]
  },
  {
   "cell_type": "code",
   "execution_count": 31,
   "id": "7c1bc5e8-98dd-4a53-9f38-00044c625881",
   "metadata": {},
   "outputs": [
    {
     "name": "stdout",
     "output_type": "stream",
     "text": [
      "\n",
      "ans =\n",
      "\n",
      "     0\n",
      "\n"
     ]
    }
   ],
   "source": [
    "pi - 4 * atan(1)"
   ]
  },
  {
   "cell_type": "code",
   "execution_count": 38,
   "id": "6e600910-673f-44f5-908c-a51c5a396d81",
   "metadata": {},
   "outputs": [
    {
     "data": {
      "image/png": "[encoded data removed]",
      "text/plain": [
       "<IPython.core.display.Image object>"
      ]
     },
     "metadata": {},
     "output_type": "display_data"
    }
   ],
   "source": [
    "x = [1;2;3;4;5];\n",
    "y = [0;.25;3;;1.5;2];\n",
    "plot(x,y)"
   ]
  },
  {
   "cell_type": "code",
   "execution_count": 39,
   "id": "276412d4-85ab-46ca-9562-19f19a772394",
   "metadata": {},
   "outputs": [
    {
     "data": {
      "image/png": "[encoded data removed]",
      "text/plain": [
       "<IPython.core.display.Image object>"
      ]
     },
     "metadata": {},
     "output_type": "display_data"
    }
   ],
   "source": [
    "plot(x,y,'o')"
   ]
  },
  {
   "cell_type": "code",
   "execution_count": 1,
   "id": "b07873a1-3560-4e91-aa63-b541751f1b3a",
   "metadata": {},
   "outputs": [
    {
     "name": "stdout",
     "output_type": "stream",
     "text": [
      "  Name      Size            Bytes  Class     Attributes\n",
      "\n",
      "  A         3x3                72  double              \n",
      "  B         3x3                72  double              \n",
      "  C         3x2                48  double              \n",
      "\n"
     ]
    }
   ],
   "source": [
    "A = [1 2 3;4 5 6;7 8 9];\n",
    "B = [1 1 1;2 2 2;3 3 3];\n",
    "C = [1 2;3 4;5 6];\n",
    "whos"
   ]
  },
  {
   "cell_type": "code",
   "execution_count": 2,
   "id": "bc06c421-363b-4f2b-b114-0f09be442c8a",
   "metadata": {},
   "outputs": [
    {
     "name": "stdout",
     "output_type": "stream",
     "text": [
      "\n",
      "ans =\n",
      "\n",
      "     2     3     4\n",
      "     6     7     8\n",
      "    10    11    12\n",
      "\n"
     ]
    }
   ],
   "source": [
    "A+B"
   ]
  },
  {
   "cell_type": "code",
   "execution_count": 3,
   "id": "aade5aae-5edf-4e33-ada2-c3a7f9d1f361",
   "metadata": {},
   "outputs": [
    {
     "name": "stderr",
     "output_type": "stream",
     "text": [
      "\u001b[0;31mArrays have incompatible sizes for this operation.\n",
      "\n",
      "\u001b[0m"
     ]
    }
   ],
   "source": [
    "A+C"
   ]
  },
  {
   "cell_type": "code",
   "execution_count": 4,
   "id": "a6d90c56-01e5-41a6-9d43-a4d7c29d1a4f",
   "metadata": {},
   "outputs": [
    {
     "name": "stdout",
     "output_type": "stream",
     "text": [
      "\n",
      "ans =\n",
      "\n",
      "    22    28\n",
      "    49    64\n",
      "    76   100\n",
      "\n"
     ]
    }
   ],
   "source": [
    "A*C"
   ]
  },
  {
   "cell_type": "code",
   "execution_count": 5,
   "id": "bc37bd21-ba38-433a-9292-248ee9a49878",
   "metadata": {},
   "outputs": [
    {
     "name": "stderr",
     "output_type": "stream",
     "text": [
      "\u001b[0;31mError using *\n",
      "Incorrect dimensions for matrix multiplication. Check that the number of columns in the first matrix matches the number of rows in the second matrix. To perform elementwise multiplication, use '.*'.\n",
      "\n",
      "\u001b[0m"
     ]
    }
   ],
   "source": [
    "C*A"
   ]
  },
  {
   "cell_type": "code",
   "execution_count": 6,
   "id": "75c74bbb-1479-49b0-8c1e-847ddf9f3173",
   "metadata": {},
   "outputs": [
    {
     "name": "stdout",
     "output_type": "stream",
     "text": [
      "\n",
      "ans =\n",
      "\n",
      "    30    36    42\n",
      "    66    81    96\n",
      "   102   126   150\n",
      "\n"
     ]
    }
   ],
   "source": [
    "A^2"
   ]
  },
  {
   "cell_type": "code",
   "execution_count": 7,
   "id": "52cc4c25-5aaf-4e46-b608-ea24c1168dfd",
   "metadata": {},
   "outputs": [
    {
     "name": "stderr",
     "output_type": "stream",
     "text": [
      "\u001b[0;31mError using ^ (line 52)\n",
      "Incorrect dimensions for raising a matrix to a power. Check that the matrix is square and the power is a scalar. To perform elementwise matrix powers, use '.^'.\n",
      "\n",
      "\u001b[0m"
     ]
    }
   ],
   "source": [
    "C^2"
   ]
  },
  {
   "cell_type": "code",
   "execution_count": 3,
   "id": "9b6cebce-409e-4af7-860f-f44e4247609c",
   "metadata": {},
   "outputs": [
    {
     "name": "stdout",
     "output_type": "stream",
     "text": [
      "\n",
      "C(:,:,1) =\n",
      "\n",
      "     1     2\n",
      "     3     4\n",
      "\n",
      "\n",
      "C(:,:,2) =\n",
      "\n",
      "     5     6\n",
      "     7     8\n",
      "\n"
     ]
    }
   ],
   "source": [
    "C = cat(3, [1 2 ; 3 4], [5 6 ; 7 8])"
   ]
  },
  {
   "cell_type": "code",
   "execution_count": 4,
   "id": "637d3085-8125-4474-80a8-9ddbb4b92d45",
   "metadata": {},
   "outputs": [
    {
     "name": "stdout",
     "output_type": "stream",
     "text": [
      "\n",
      "D =\n",
      "\n",
      "     1\n",
      "     2\n",
      "\n"
     ]
    }
   ],
   "source": [
    "D = [1 ; 2]"
   ]
  },
  {
   "cell_type": "code",
   "execution_count": 5,
   "id": "16b28295-76bc-4578-b1cd-71e8b389ebb1",
   "metadata": {},
   "outputs": [
    {
     "name": "stdout",
     "output_type": "stream",
     "text": [
      "  Name      Size             Bytes  Class     Attributes\n",
      "\n",
      "  C         2x2x2               64  double              \n",
      "  D         2x1                 16  double              \n",
      "\n"
     ]
    }
   ],
   "source": [
    "whos"
   ]
  },
  {
   "cell_type": "code",
   "execution_count": 6,
   "id": "5fc36ed4-a1aa-4417-9ed1-b0d86f7dfe37",
   "metadata": {},
   "outputs": [
    {
     "name": "stderr",
     "output_type": "stream",
     "text": [
      "\u001b[0;31mError using *\n",
      "Arguments must be 2-D, or at least one argument must be scalar. Use TIMES (.*) for elementwise multiplication, or use PAGEMTIMES to apply matrix multiplication to the pages of N-D arrays.\n",
      "\n",
      "\u001b[0m"
     ]
    }
   ],
   "source": [
    "C*D"
   ]
  },
  {
   "cell_type": "markdown",
   "id": "e613db09-e10a-4ff4-aa8a-ec474d0b40b6",
   "metadata": {},
   "source": [
    "#### 2.3.2 Solving matrix equations using matrix division"
   ]
  },
  {
   "cell_type": "code",
   "execution_count": 7,
   "id": "d9c3ec18-bc66-40fb-9156-edeb4693f716",
   "metadata": {},
   "outputs": [
    {
     "name": "stdout",
     "output_type": "stream",
     "text": [
      "\n",
      "A =\n",
      "\n",
      "    0.8147    0.9134    0.2785\n",
      "    0.9058    0.6324    0.5469\n",
      "    0.1270    0.0975    0.9575\n",
      "\n"
     ]
    }
   ],
   "source": [
    "A = rand(3, 3)"
   ]
  },
  {
   "cell_type": "code",
   "execution_count": 8,
   "id": "7cb3fb7b-24e5-4581-bd15-7b2930bd9099",
   "metadata": {},
   "outputs": [
    {
     "name": "stdout",
     "output_type": "stream",
     "text": [
      "\n",
      "b =\n",
      "\n",
      "    0.9649\n",
      "    0.1576\n",
      "    0.9706\n",
      "\n"
     ]
    }
   ],
   "source": [
    "b = rand(3, 1)"
   ]
  },
  {
   "cell_type": "code",
   "execution_count": 9,
   "id": "9e211d6d-5501-462e-b9ca-e8018a02cd9b",
   "metadata": {},
   "outputs": [
    {
     "name": "stdout",
     "output_type": "stream",
     "text": [
      "\n",
      "x =\n",
      "\n",
      "   -2.5775\n",
      "    3.0365\n",
      "    1.0462\n",
      "\n"
     ]
    }
   ],
   "source": [
    "x = A \\ b"
   ]
  },
  {
   "cell_type": "code",
   "execution_count": 10,
   "id": "9e69c3bf-8bc7-4089-bdd3-fde72150fa29",
   "metadata": {},
   "outputs": [
    {
     "name": "stdout",
     "output_type": "stream",
     "text": [
      "\n",
      "ans =\n",
      "\n",
      "   1.0e-15 *\n",
      "\n",
      "   -0.4441\n",
      "   -0.1110\n",
      "    0.2220\n",
      "\n"
     ]
    }
   ],
   "source": [
    "A * x - b"
   ]
  },
  {
   "cell_type": "markdown",
   "id": "eeccd803-59aa-4ebc-8dc3-9266a6611349",
   "metadata": {},
   "source": [
    "#### 2.3.3 Vectorized functions and operators; more on graphs"
   ]
  },
  {
   "cell_type": "code",
   "execution_count": 11,
   "id": "37c5acde-4aee-406f-94f6-7c3a4a702aa4",
   "metadata": {},
   "outputs": [
    {
     "name": "stdout",
     "output_type": "stream",
     "text": [
      "\n",
      "t =\n",
      "\n",
      "     1     2     3     4     5\n",
      "\n"
     ]
    }
   ],
   "source": [
    "t = 1:5"
   ]
  },
  {
   "cell_type": "code",
   "execution_count": 12,
   "id": "c970a00f-dca7-4cee-8e21-c3d2990922b0",
   "metadata": {},
   "outputs": [
    {
     "name": "stdout",
     "output_type": "stream",
     "text": [
      "\n",
      "x =\n",
      "\n",
      "  Columns 1 through 7\n",
      "\n",
      "         0    0.1000    0.2000    0.3000    0.4000    0.5000    0.6000\n",
      "\n",
      "  Columns 8 through 11\n",
      "\n",
      "    0.7000    0.8000    0.9000    1.0000\n",
      "\n"
     ]
    }
   ],
   "source": [
    "x = 0:.1:1"
   ]
  },
  {
   "cell_type": "code",
   "execution_count": 13,
   "id": "245cad54-8be7-49e8-89f0-b01dc4fc3bfc",
   "metadata": {},
   "outputs": [
    {
     "name": "stdout",
     "output_type": "stream",
     "text": [
      "\n",
      "ans =\n",
      "\n",
      "  Columns 1 through 7\n",
      "\n",
      "         0    0.1000    0.2000    0.3000    0.4000    0.5000    0.6000\n",
      "\n",
      "  Columns 8 through 11\n",
      "\n",
      "    0.7000    0.8000    0.9000    1.0000\n",
      "\n"
     ]
    }
   ],
   "source": [
    "linspace(0, 1, 11)"
   ]
  },
  {
   "cell_type": "code",
   "execution_count": 14,
   "id": "71808bae-aa02-42da-825b-9d39b78cb19d",
   "metadata": {},
   "outputs": [
    {
     "name": "stdout",
     "output_type": "stream",
     "text": [
      "\n",
      "ans =\n",
      "\n",
      "  Columns 1 through 7\n",
      "\n",
      "    1.0000    1.2589    1.5849    1.9953    2.5119    3.1623    3.9811\n",
      "\n",
      "  Columns 8 through 11\n",
      "\n",
      "    5.0119    6.3096    7.9433   10.0000\n",
      "\n"
     ]
    }
   ],
   "source": [
    "logspace(0, 1, 11)"
   ]
  },
  {
   "cell_type": "code",
   "execution_count": 15,
   "id": "aec67fa0-debe-458c-b06f-df2d5cf6371b",
   "metadata": {},
   "outputs": [
    {
     "data": {
      "image/png": "[encoded data removed]",
      "text/plain": [
       "<IPython.core.display.Image object>"
      ]
     },
     "metadata": {},
     "output_type": "display_data"
    }
   ],
   "source": [
    "x = (0:.1:2*pi);\n",
    "y = sin(x);\n",
    "plot(x,y)"
   ]
  },
  {
   "cell_type": "code",
   "execution_count": 16,
   "id": "42c65589-c832-4459-bd63-ff685b756d01",
   "metadata": {},
   "outputs": [
    {
     "data": {
      "image/png": "[encoded data removed]",
      "text/plain": [
       "<IPython.core.display.Image object>"
      ]
     },
     "metadata": {},
     "output_type": "display_data"
    }
   ],
   "source": [
    "x = (-5:.1:5);\n",
    "y = x ./ (1 + x .^ 2);\n",
    "plot(x, y)"
   ]
  },
  {
   "cell_type": "markdown",
   "id": "7f4e5f38-1505-4712-b143-34861480a51c",
   "metadata": {},
   "source": [
    "#### 2.4 Some miscellaneous commands"
   ]
  },
  {
   "cell_type": "code",
   "execution_count": 17,
   "id": "483fa16d-e358-4fbd-ae60-23cd3f03a12c",
   "metadata": {},
   "outputs": [
    {
     "name": "stdout",
     "output_type": "stream",
     "text": [
      "\n",
      "A =\n",
      "\n",
      "     1     2\n",
      "     3     4\n",
      "\n"
     ]
    }
   ],
   "source": [
    "A = [1 2 ; 3 4]"
   ]
  },
  {
   "cell_type": "code",
   "execution_count": 18,
   "id": "e6cb7df3-cd25-4bde-a82a-eb9a4b32aa18",
   "metadata": {},
   "outputs": [
    {
     "name": "stdout",
     "output_type": "stream",
     "text": [
      "\n",
      "ans =\n",
      "\n",
      "     1     3\n",
      "     2     4\n",
      "\n"
     ]
    }
   ],
   "source": [
    "A'"
   ]
  },
  {
   "cell_type": "code",
   "execution_count": 19,
   "id": "23f12e90-9319-4d32-96d6-a390d6e5f974",
   "metadata": {},
   "outputs": [
    {
     "name": "stdout",
     "output_type": "stream",
     "text": [
      "\n",
      "B =\n",
      "\n",
      "   1.0000 + 0.5000i   2.0000 + 1.0000i\n",
      "   3.0000 + 1.5000i   4.0000 + 2.0000i\n",
      "\n"
     ]
    }
   ],
   "source": [
    "B = A + i * .5 * A"
   ]
  },
  {
   "cell_type": "code",
   "execution_count": 20,
   "id": "835a1f45-e878-4cd8-88d8-2d006e316a33",
   "metadata": {},
   "outputs": [
    {
     "name": "stdout",
     "output_type": "stream",
     "text": [
      "\n",
      "ans =\n",
      "\n",
      "   1.0000 - 0.5000i   3.0000 - 1.5000i\n",
      "   2.0000 - 1.0000i   4.0000 - 2.0000i\n",
      "\n"
     ]
    }
   ],
   "source": [
    "B'"
   ]
  },
  {
   "cell_type": "code",
   "execution_count": 21,
   "id": "4543eac2-7560-4759-9af0-8cb2a2ed4f03",
   "metadata": {},
   "outputs": [
    {
     "name": "stdout",
     "output_type": "stream",
     "text": [
      "\n",
      "ans =\n",
      "\n",
      "   1.0000 + 0.5000i   3.0000 + 1.5000i\n",
      "   2.0000 + 1.0000i   4.0000 + 2.0000i\n",
      "\n"
     ]
    }
   ],
   "source": [
    "B.'"
   ]
  },
  {
   "cell_type": "code",
   "execution_count": 89,
   "id": "ef533924-273c-49b9-a360-74fad0f91fdf",
   "metadata": {},
   "outputs": [],
   "source": [
    "format short"
   ]
  },
  {
   "cell_type": "code",
   "execution_count": 23,
   "id": "5e70cc91-6985-4c63-8ef2-8c2ef26e4e1c",
   "metadata": {},
   "outputs": [
    {
     "name": "stdout",
     "output_type": "stream",
     "text": [
      "\n",
      "ans =\n",
      "\n",
      "    3.1416\n",
      "\n"
     ]
    }
   ],
   "source": [
    "pi"
   ]
  },
  {
   "cell_type": "code",
   "execution_count": 24,
   "id": "bc6c2c68-877d-406b-95f1-6b09e211884d",
   "metadata": {},
   "outputs": [],
   "source": [
    "format short e"
   ]
  },
  {
   "cell_type": "code",
   "execution_count": 25,
   "id": "f8c58d12-d5e6-4b0d-9994-0620d532f202",
   "metadata": {},
   "outputs": [
    {
     "name": "stdout",
     "output_type": "stream",
     "text": [
      "\n",
      "ans =\n",
      "\n",
      "   3.1416e+00\n",
      "\n"
     ]
    }
   ],
   "source": [
    "pi"
   ]
  },
  {
   "cell_type": "code",
   "execution_count": 26,
   "id": "352f0ed0-76bf-4983-ac0d-71a879e1bc3e",
   "metadata": {},
   "outputs": [],
   "source": [
    "format long"
   ]
  },
  {
   "cell_type": "code",
   "execution_count": 27,
   "id": "1cbec88b-d933-4fc9-8faa-3cccf3c541f6",
   "metadata": {},
   "outputs": [
    {
     "name": "stdout",
     "output_type": "stream",
     "text": [
      "\n",
      "ans =\n",
      "\n",
      "   3.141592653589793\n",
      "\n"
     ]
    }
   ],
   "source": [
    "pi"
   ]
  },
  {
   "cell_type": "code",
   "execution_count": 28,
   "id": "67989b73-fcd5-4d34-a970-f74d47de9f54",
   "metadata": {},
   "outputs": [],
   "source": [
    "format long e"
   ]
  },
  {
   "cell_type": "code",
   "execution_count": 29,
   "id": "8cfe5bef-b22c-4786-b2f8-1f0d9a5e521a",
   "metadata": {},
   "outputs": [
    {
     "name": "stdout",
     "output_type": "stream",
     "text": [
      "\n",
      "ans =\n",
      "\n",
      "     3.141592653589793e+00\n",
      "\n"
     ]
    }
   ],
   "source": [
    "pi"
   ]
  },
  {
   "cell_type": "code",
   "execution_count": 30,
   "id": "8e0d94bc-0d0c-4ec7-95eb-8e03e7a8af4e",
   "metadata": {},
   "outputs": [],
   "source": [
    "format compact"
   ]
  },
  {
   "cell_type": "code",
   "execution_count": 33,
   "id": "f447a215-5614-4470-8268-5a32d4d8f340",
   "metadata": {},
   "outputs": [
    {
     "name": "stdout",
     "output_type": "stream",
     "text": [
      "ans =\n",
      "     3.141592653589793e+00\n"
     ]
    }
   ],
   "source": [
    "pi"
   ]
  },
  {
   "cell_type": "markdown",
   "id": "c483feda-a3d4-4ba4-88d7-a7040d081e03",
   "metadata": {},
   "source": [
    "### 3. Programming in Matlab"
   ]
  },
  {
   "cell_type": "markdown",
   "id": "07361270-420b-473f-bfc4-e2937745f580",
   "metadata": {},
   "source": [
    "#### 3.1 Conditionals and Loops"
   ]
  },
  {
   "cell_type": "code",
   "execution_count": 52,
   "id": "c9510b30-1caa-49d2-a1d1-972d2ec756fa",
   "metadata": {},
   "outputs": [
    {
     "name": "stdout",
     "output_type": "stream",
     "text": [
      "t =\n",
      "     7.060460880196088e-01\n",
      "s =\n",
      "     8.790782396078245e-02\n"
     ]
    }
   ],
   "source": [
    "t = rand(1);\n",
    "if t > 0.75\n",
    "  s = 0;\n",
    "elseif t < 0.25\n",
    "  s = 1;\n",
    "else\n",
    "  s = 1 - 2 * (t - 0.25);\n",
    "end\n",
    "t\n",
    "s"
   ]
  },
  {
   "cell_type": "code",
   "execution_count": 53,
   "id": "37cef4b8-fab3-4810-9249-cb5fee474143",
   "metadata": {},
   "outputs": [
    {
     "name": "stdout",
     "output_type": "stream",
     "text": [
      "ans =\n",
      "  logical\n",
      "   1\n"
     ]
    }
   ],
   "source": [
    "5 > 3"
   ]
  },
  {
   "cell_type": "code",
   "execution_count": 54,
   "id": "19ddd83e-5ce0-48ba-82c0-0338047eee43",
   "metadata": {},
   "outputs": [
    {
     "name": "stdout",
     "output_type": "stream",
     "text": [
      "ans =\n",
      "  logical\n",
      "   0\n"
     ]
    }
   ],
   "source": [
    "5 < 3"
   ]
  },
  {
   "cell_type": "code",
   "execution_count": 55,
   "id": "7b287be8-2bc1-4fcc-8d10-52964823986b",
   "metadata": {},
   "outputs": [
    {
     "name": "stdout",
     "output_type": "stream",
     "text": [
      "ans =\n",
      "  logical\n",
      "   0\n"
     ]
    }
   ],
   "source": [
    "5 == 3"
   ]
  },
  {
   "cell_type": "code",
   "execution_count": 56,
   "id": "eea56235-a544-458d-bab3-8b416bc75a2b",
   "metadata": {},
   "outputs": [
    {
     "name": "stdout",
     "output_type": "stream",
     "text": [
      "     1\n",
      "     4\n",
      "     9\n",
      "    16\n"
     ]
    }
   ],
   "source": [
    "for i = [1 2 3 4]\n",
    "  disp(i^2)\n",
    "end"
   ]
  },
  {
   "cell_type": "code",
   "execution_count": 59,
   "id": "d21e5c39-fd3b-4d59-9854-6b39fc90dc9c",
   "metadata": {},
   "outputs": [
    {
     "name": "stdout",
     "output_type": "stream",
     "text": [
      "     1\n",
      "     4\n",
      "     9\n",
      "    16\n"
     ]
    }
   ],
   "source": [
    "for i = 1 : 4\n",
    "  disp(i^2)\n",
    "end"
   ]
  },
  {
   "cell_type": "code",
   "execution_count": 60,
   "id": "cfe63104-c3b7-44fd-a323-479e0f4120db",
   "metadata": {},
   "outputs": [
    {
     "name": "stdout",
     "output_type": "stream",
     "text": [
      "x =\n",
      "     1.110223024625157e-16\n"
     ]
    }
   ],
   "source": [
    "x = 1;\n",
    "while 1 + x > 1\n",
    "  x = x / 2;\n",
    "end\n",
    "x"
   ]
  },
  {
   "cell_type": "markdown",
   "id": "3aab5956-2b95-4fd7-a80b-04484135c5c4",
   "metadata": {},
   "source": [
    "#### 3.2 Scripts and Functions"
   ]
  },
  {
   "cell_type": "code",
   "execution_count": 63,
   "id": "f4a123bd-17e2-458e-a51d-2001438f0f2b",
   "metadata": {},
   "outputs": [],
   "source": [
    "%path\n",
    "%path(path, '/Users/davefriedman/Private/courses/cmpsc451/')"
   ]
  },
  {
   "cell_type": "code",
   "execution_count": 62,
   "id": "fa513514-17b0-4553-b302-76bc5215d82c",
   "metadata": {},
   "outputs": [
    {
     "name": "stdout",
     "output_type": "stream",
     "text": [
      " PATH Get/set search path.\n",
      "    PATH, by itself, prettyprints MATLAB's current search path. The initial\n",
      "    search path list is set by PATHDEF, and is perhaps individualized by\n",
      "    STARTUP.\n",
      " \n",
      "    P = PATH returns a character vector containing the path in P. PATH(P)\n",
      "    changes the path to P.\n",
      " \n",
      "    PATH(P1,P2) changes the path to the concatenation of the two search \n",
      "    paths P1 and P2.  Thus PATH(PATH,P) appends the folder P to the\n",
      "    current path and PATH(P,PATH) prepends the folder P.  If P is already\n",
      "    on the path, then PATH(PATH,P) moves P to the end of the path,\n",
      "    and similarly, PATH(P,PATH) moves P to the beginning of the path.\n",
      " \n",
      "    For example, the following statements add another folder to MATLAB's\n",
      "    search path on various operating systems:\n",
      " \n",
      "      Unix:     path(path,'/home/myfriend/goodstuff')\n",
      "      Windows:  path(path,'c:\\tools\\goodstuff')\n",
      " \n",
      "    See also WHAT, CD, DIR, ADDPATH, RMPATH, GENPATH, PATHTOOL, SAVEPATH, REHASH.\n",
      "\n",
      "    Documentation for path\n",
      "       doc path\n",
      "\n",
      "    Other functions named path\n",
      "\n",
      "       mtree/path\n",
      "\n"
     ]
    }
   ],
   "source": [
    "help path"
   ]
  },
  {
   "cell_type": "code",
   "execution_count": 67,
   "id": "a8b23cba-1e15-49ca-975b-b6cd7aefc3c1",
   "metadata": {},
   "outputs": [],
   "source": [
    "%load plotsin.m"
   ]
  },
  {
   "cell_type": "code",
   "execution_count": null,
   "id": "bb8d392b-da9d-4aaa-94ab-d06d5689786a",
   "metadata": {},
   "outputs": [],
   "source": [
    "x = 0 : 2*pi / N : 2*pi;\n",
    "y = sin(w * x);\n",
    "plot(x, y)"
   ]
  },
  {
   "cell_type": "code",
   "execution_count": 68,
   "id": "91bf9368-a2cd-4389-965b-cf9d0069f8f8",
   "metadata": {},
   "outputs": [
    {
     "data": {
      "image/png": "[encoded data removed]",
      "text/plain": [
       "<IPython.core.display.Image object>"
      ]
     },
     "metadata": {},
     "output_type": "display_data"
    }
   ],
   "source": [
    "N = 100;\n",
    "w = 5;\n",
    "plotsin"
   ]
  },
  {
   "cell_type": "code",
   "execution_count": 69,
   "id": "5e77cf01-db77-4300-aa06-7b4bc006631c",
   "metadata": {},
   "outputs": [],
   "source": [
    "%load fcn.m"
   ]
  },
  {
   "cell_type": "code",
   "execution_count": null,
   "id": "7b595866-3018-4bac-9e46-7edcb5e8e068",
   "metadata": {},
   "outputs": [],
   "source": [
    "function y = fcn(x)\n",
    "y = sin(x .^ 2);"
   ]
  },
  {
   "cell_type": "code",
   "execution_count": 70,
   "id": "80fd6d3f-77c4-4383-acea-8189beb977d9",
   "metadata": {},
   "outputs": [
    {
     "data": {
      "image/png": "[encoded data removed]",
      "text/plain": [
       "<IPython.core.display.Image object>"
      ]
     },
     "metadata": {},
     "output_type": "display_data"
    }
   ],
   "source": [
    "x = (-pi : 2*pi / 100 : pi)';\n",
    "y = sin(x);\n",
    "z = fcn(x);\n",
    "plot(x, y, x, z)\n",
    "grid"
   ]
  },
  {
   "cell_type": "code",
   "execution_count": 71,
   "id": "f47a4d8a-2fba-41c5-925a-c3569cd23040",
   "metadata": {},
   "outputs": [
    {
     "name": "stdout",
     "output_type": "stream",
     "text": [
      "ans =\n",
      "    -7.568024953079282e-01\n"
     ]
    }
   ],
   "source": [
    "fcn(2)"
   ]
  },
  {
   "cell_type": "code",
   "execution_count": 72,
   "id": "4b9a5e72-6969-40cd-96a0-1fba5ff63d8a",
   "metadata": {},
   "outputs": [
    {
     "name": "stdout",
     "output_type": "stream",
     "text": [
      "ans =\n",
      "    -7.568024953079282e-01\n"
     ]
    }
   ],
   "source": [
    "feval('fcn', 2)"
   ]
  },
  {
   "cell_type": "code",
   "execution_count": 73,
   "id": "2e84d5b7-fba9-44e6-b39c-2a3fab707b41",
   "metadata": {},
   "outputs": [
    {
     "name": "stdout",
     "output_type": "stream",
     "text": [
      "str =\n",
      "    'fcn'\n",
      "ans =\n",
      "    -7.568024953079282e-01\n"
     ]
    }
   ],
   "source": [
    "str = 'fcn'\n",
    "feval(str, 2)"
   ]
  },
  {
   "cell_type": "code",
   "execution_count": 78,
   "id": "5ca1a602-0974-414a-bd3a-2b86bd33e3a6",
   "metadata": {},
   "outputs": [],
   "source": [
    "%load bisect.m"
   ]
  },
  {
   "cell_type": "code",
   "execution_count": null,
   "id": "946f9d9d-a6a1-466c-b1bc-14dea81b3010",
   "metadata": {},
   "outputs": [],
   "source": [
    "% function c = bisect(fn, a, b, tol)\n",
    "\n",
    "% % c = bisect('fn', a, b, tol)\n",
    "% %\n",
    "% % This function locates a root of the function fn on the interval\n",
    "% % [a, b] to within a tolerahasnce of tol. It is assumed that the function\n",
    "% % has opposite signs at a and b.\n",
    "\n",
    "% % Evaluate the function at the endpoints and check to see if it\n",
    "% % changes sign.\n",
    "\n",
    "% fa = feval(fn, a);\n",
    "% fb = feval(fn, b);\n",
    "\n",
    "% if fa * fb >= 0\n",
    "%   error('The function must have opposite signs at a and b')\n",
    "% end\n",
    "\n",
    "% % The flag done is used to flag the unlikely event that we find\n",
    "% % the root exactly before the interval has been sufficiently reduced.\n",
    "\n",
    "% done = 0;\n",
    "\n",
    "% % Bisect the interval\n",
    "\n",
    "% c = (a + b) / 2;\n",
    "\n",
    "% % Main loop\n",
    "\n",
    "% while abs(a - b) > 2*tol & -done\n",
    "\n",
    "%   % Evaluate the function at the midpoint\n",
    "  \n",
    "%   fc = feval(fn, c);\n",
    "  \n",
    "%   if fa * fc < 0      % The root is to the left of c\n",
    "%     b  = c;\n",
    "%     fb = fc;\n",
    "%     c  = (a + b) / 2;\n",
    "%   elseif fc * fb < 0  % The root is to the right of c\n",
    "%     a  = c;\n",
    "%     fa = fc;\n",
    "%     c  = (a + b) / 2;\n",
    "%   else\n",
    "%     done = 1;\n",
    "%   end\n",
    "% end"
   ]
  },
  {
   "cell_type": "code",
   "execution_count": 84,
   "id": "b22f319e-7c68-449d-8187-f0bdfefc1586",
   "metadata": {},
   "outputs": [
    {
     "name": "stdout",
     "output_type": "stream",
     "text": [
      "x =\n",
      "     1.500000000000000e+00\n"
     ]
    }
   ],
   "source": [
    "x = bisect('fcn', 1, 2, 1e-6)"
   ]
  },
  {
   "cell_type": "code",
   "execution_count": 85,
   "id": "bb2faef5-fd44-41d2-a943-5ee1aa5490c2",
   "metadata": {},
   "outputs": [
    {
     "name": "stdout",
     "output_type": "stream",
     "text": [
      "ans =\n",
      "     2.724538509055159e-01\n"
     ]
    }
   ],
   "source": [
    "sqrt(pi) - x"
   ]
  },
  {
   "cell_type": "code",
   "execution_count": 81,
   "id": "e036684e-d525-470e-95e7-40d45c37469b",
   "metadata": {},
   "outputs": [
    {
     "name": "stdout",
     "output_type": "stream",
     "text": [
      "  c = bisect('fn', a, b, tol)\n",
      " \n",
      "  This function locates a root of the function fn on the interval\n",
      "  [a, b] to within a tolerahasnce of tol. It is assumed that the function\n",
      "  has opposite signs at a and b.\n",
      "\n"
     ]
    }
   ],
   "source": [
    "help bisect"
   ]
  },
  {
   "cell_type": "markdown",
   "id": "faa19277-e717-412f-b690-fed32b132f9d",
   "metadata": {},
   "source": [
    "### 4. Advanced Matrix Computations"
   ]
  },
  {
   "cell_type": "markdown",
   "id": "eefd7400-de0c-4149-b3b0-c6a9ad735118",
   "metadata": {},
   "source": [
    "#### 4.1 Eigenvalues and other numerical linear algebra computations"
   ]
  },
  {
   "cell_type": "code",
   "execution_count": 86,
   "id": "af2b509a-a6df-43cb-a304-bda9e3597d78",
   "metadata": {},
   "outputs": [
    {
     "name": "stdout",
     "output_type": "stream",
     "text": [
      "A =\n",
      "     1     3     2\n",
      "     4     5     6\n",
      "     7     8     9\n"
     ]
    }
   ],
   "source": [
    "A = [1 3 2 ; 4 5 6 ; 7 8 9]"
   ]
  },
  {
   "cell_type": "code",
   "execution_count": 90,
   "id": "971f23ca-6008-44eb-b62e-82a04bdf748d",
   "metadata": {},
   "outputs": [
    {
     "name": "stdout",
     "output_type": "stream",
     "text": [
      "ans =\n",
      "  15.9743 + 0.0000i\n",
      "  -0.4871 + 0.5711i\n",
      "  -0.4871 - 0.5711i\n"
     ]
    }
   ],
   "source": [
    "eig(A)"
   ]
  },
  {
   "cell_type": "code",
   "execution_count": 91,
   "id": "c66eef9e-bc32-483a-aea8-afafc8a26d55",
   "metadata": {},
   "outputs": [
    {
     "name": "stdout",
     "output_type": "stream",
     "text": [
      "V =\n",
      "   0.2155 + 0.0000i   0.7247 + 0.0000i   0.7247 + 0.0000i\n",
      "   0.5277 + 0.0000i  -0.0368 + 0.3594i  -0.0368 - 0.3594i\n",
      "   0.8216 + 0.0000i  -0.4837 - 0.3322i  -0.4837 + 0.3322i\n",
      "D =\n",
      "  15.9743 + 0.0000i   0.0000 + 0.0000i   0.0000 + 0.0000i\n",
      "   0.0000 + 0.0000i  -0.4871 + 0.5711i   0.0000 + 0.0000i\n",
      "   0.0000 + 0.0000i   0.0000 + 0.0000i  -0.4871 - 0.5711i\n"
     ]
    }
   ],
   "source": [
    "[V, D] = eig(A)"
   ]
  },
  {
   "cell_type": "code",
   "execution_count": 93,
   "id": "ea01e346-8be1-4185-904b-0c35d7c0813d",
   "metadata": {},
   "outputs": [
    {
     "name": "stdout",
     "output_type": "stream",
     "text": [
      "ans =\n",
      "   1.0e-14 *\n",
      "  -0.2665 + 0.0000i   0.0555 - 0.0278i   0.0555 + 0.0278i\n",
      "   0.1776 + 0.0000i   0.0416 + 0.0083i   0.0416 - 0.0083i\n",
      "   0.3553 + 0.0000i   0.1332 - 0.0694i   0.1332 + 0.0694i\n"
     ]
    }
   ],
   "source": [
    "A*V - V*D"
   ]
  },
  {
   "cell_type": "markdown",
   "id": "aa1ec59b-3357-4e1c-9a40-5c4b25ff5f33",
   "metadata": {},
   "source": [
    "#### 4.2 Sparse matrix computations"
   ]
  },
  {
   "cell_type": "markdown",
   "id": "7b773ddb-3b41-4be6-a295-4d653073e148",
   "metadata": {},
   "source": [
    "### 8. Advanced data types in Matlab"
   ]
  },
  {
   "cell_type": "markdown",
   "id": "cbe9e31a-4859-4081-a1ba-c77b9b8d418e",
   "metadata": {},
   "source": [
    "#### 8.1 Structures"
   ]
  },
  {
   "cell_type": "code",
   "execution_count": 1,
   "id": "b3c62ba8-b89a-4886-ae6c-8747dfddf280",
   "metadata": {},
   "outputs": [
    {
     "name": "stdout",
     "output_type": "stream",
     "text": [
      "\n",
      "x =\n",
      "\n",
      "     2\n",
      "     1\n",
      "\n"
     ]
    }
   ],
   "source": [
    "x = [2 ; 1]"
   ]
  },
  {
   "cell_type": "code",
   "execution_count": 2,
   "id": "060fdbb7-25cb-461c-b6fb-1a0b7ddecf32",
   "metadata": {},
   "outputs": [
    {
     "name": "stdout",
     "output_type": "stream",
     "text": [
      "\n",
      "fx = \n",
      "\n",
      "  struct with fields:\n",
      "\n",
      "       Value: 3\n",
      "    Gradient: [2x1 double]\n",
      "     Hessian: [2x2 double]\n",
      "\n"
     ]
    }
   ],
   "source": [
    "fx = f(x)"
   ]
  },
  {
   "cell_type": "code",
   "execution_count": 3,
   "id": "57c22388-6f0f-4185-91c3-4b4fd370dfc2",
   "metadata": {},
   "outputs": [
    {
     "name": "stdout",
     "output_type": "stream",
     "text": [
      "  Name      Size            Bytes  Class     Attributes\n",
      "\n",
      "  fx        1x1               560  struct              \n",
      "  x         2x1                16  double              \n",
      "\n"
     ]
    }
   ],
   "source": [
    "whos"
   ]
  },
  {
   "cell_type": "code",
   "execution_count": 4,
   "id": "da9a0c78-3051-4313-9570-432d2a11bb7f",
   "metadata": {},
   "outputs": [
    {
     "name": "stderr",
     "output_type": "stream",
     "text": [
      "\u001b[0;31mSubscripted assignment between dissimilar structures.\n",
      "\n",
      "\u001b[0m"
     ]
    }
   ],
   "source": [
    "gx.Value    = 12;\n",
    "gx.Gradient = [2 ; 1];\n",
    "A(1, 1) = fx;\n",
    "A(2, 1) = gx;"
   ]
  },
  {
   "cell_type": "code",
   "execution_count": 5,
   "id": "7767afa7-d42b-4793-8c8b-73527c09be1a",
   "metadata": {},
   "outputs": [
    {
     "name": "stdout",
     "output_type": "stream",
     "text": [
      "\n",
      "ans =\n",
      "\n",
      "  3x1 cell array\n",
      "\n",
      "    {'Value'   }\n",
      "    {'Gradient'}\n",
      "    {'Hessian' }\n",
      "\n"
     ]
    }
   ],
   "source": [
    "fieldnames(fx)"
   ]
  },
  {
   "cell_type": "code",
   "execution_count": 6,
   "id": "1444d480-0177-4519-b2d6-5e3d229bade6",
   "metadata": {},
   "outputs": [
    {
     "name": "stdout",
     "output_type": "stream",
     "text": [
      "\n",
      "ans =\n",
      "\n",
      "  2x1 cell array\n",
      "\n",
      "    {'Value'   }\n",
      "    {'Gradient'}\n",
      "\n"
     ]
    }
   ],
   "source": [
    "fieldnames(gx)"
   ]
  },
  {
   "cell_type": "markdown",
   "id": "ad8e8e11-2798-465a-a29e-1630fd46e9a7",
   "metadata": {},
   "source": [
    "#### 8.2 Cell arrays"
   ]
  },
  {
   "cell_type": "code",
   "execution_count": 1,
   "id": "07f73b47-d22b-42cb-92ac-7dab54288711",
   "metadata": {},
   "outputs": [],
   "source": [
    "x  = [2 ; 1];\n",
    "fx = f(x);"
   ]
  },
  {
   "cell_type": "code",
   "execution_count": 2,
   "id": "e59c8560-d3d5-4513-bfff-5e5e8b767e35",
   "metadata": {},
   "outputs": [
    {
     "name": "stdout",
     "output_type": "stream",
     "text": [
      "  Name      Size            Bytes  Class     Attributes\n",
      "\n",
      "  fx        1x1               560  struct              \n",
      "  x         2x1                16  double              \n",
      "\n"
     ]
    }
   ],
   "source": [
    "whos"
   ]
  },
  {
   "cell_type": "code",
   "execution_count": 3,
   "id": "be5b912e-b726-4daa-86a2-0a5f0db19d47",
   "metadata": {},
   "outputs": [
    {
     "name": "stdout",
     "output_type": "stream",
     "text": [
      "\n",
      "A =\n",
      "\n",
      "  1x1 cell array\n",
      "\n",
      "    {2x1 double}\n",
      "\n"
     ]
    }
   ],
   "source": [
    "A{1} = x"
   ]
  },
  {
   "cell_type": "code",
   "execution_count": 4,
   "id": "8d0e84d1-90de-47ae-880c-baa424491b7c",
   "metadata": {},
   "outputs": [
    {
     "name": "stdout",
     "output_type": "stream",
     "text": [
      "\n",
      "A =\n",
      "\n",
      "  1x2 cell array\n",
      "\n",
      "    {2x1 double}    {1x1 struct}\n",
      "\n"
     ]
    }
   ],
   "source": [
    "A{2} = fx"
   ]
  },
  {
   "cell_type": "code",
   "execution_count": 5,
   "id": "fd27de6e-aa1c-4bf5-b15c-62fd7e1cea07",
   "metadata": {},
   "outputs": [
    {
     "name": "stdout",
     "output_type": "stream",
     "text": [
      "  Name      Size            Bytes  Class     Attributes\n",
      "\n",
      "  A         1x2               784  cell                \n",
      "  fx        1x1               560  struct              \n",
      "  x         2x1                16  double              \n",
      "\n"
     ]
    }
   ],
   "source": [
    "whos"
   ]
  },
  {
   "cell_type": "code",
   "execution_count": 6,
   "id": "b63534e2-3319-4a7b-8d57-c7e10f43e41d",
   "metadata": {},
   "outputs": [
    {
     "name": "stdout",
     "output_type": "stream",
     "text": [
      "\n",
      "B =\n",
      "\n",
      "  1x2 cell array\n",
      "\n",
      "    {2x1 double}    {1x1 struct}\n",
      "\n"
     ]
    }
   ],
   "source": [
    "B = {x, fx}"
   ]
  }
 ],
 "metadata": {
  "kernelspec": {
   "display_name": "Matlab",
   "language": "matlab",
   "name": "matlab"
  },
  "language_info": {
   "codemirror_mode": "octave",
   "file_extension": ".m",
   "help_links": [
    {
     "text": "MetaKernel Magics",
     "url": "https://metakernel.readthedocs.io/en/latest/source/README.html"
    }
   ],
   "mimetype": "text/x-octave",
   "name": "matlab",
   "version": "0.17.1"
  }
 },
 "nbformat": 4,
 "nbformat_minor": 5
}
